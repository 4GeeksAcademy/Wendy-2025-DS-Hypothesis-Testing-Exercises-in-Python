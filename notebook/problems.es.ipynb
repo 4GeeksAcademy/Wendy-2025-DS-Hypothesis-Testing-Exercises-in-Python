{
 "cells": [
  {
   "cell_type": "markdown",
   "id": "d9d036c6",
   "metadata": {},
   "source": [
    "# Problemas de prueba de hipótesis"
   ]
  },
  {
   "cell_type": "markdown",
   "id": "d157c4db",
   "metadata": {},
   "source": [
    "## Ejercicio 1\n",
    "\n",
    "Usted es un nutricionista que investiga dos tipos diferentes de dietas para ver si existe una diferencia significativa en la pérdida de peso después de un mes. Eliges dos grupos aleatorios de personas; un grupo sigue la primera dieta y el otro sigue la segunda. Al final del mes, se registra la pérdida de peso (en kg) de cada persona:\n",
    "\n",
    "| Diet 1 | Diet 2 |\n",
    "|:-------|:-------|\n",
    "| 2.0 | 3.0 |\n",
    "| 2.5 | 3.2 |\n",
    "| 3.0 | 3.1 |\n",
    "| 2.8 | 2.9 |\n",
    "| 2.3 | 2.8 |\n",
    "| 2.7 | 3.0 |\n",
    "| 2.5 | 3.2 |\n",
    "\n",
    "Con estos datos se busca responder a la siguiente pregunta: ¿Existe una diferencia significativa en la pérdida de peso promedio entre las personas que siguieron la primera dieta y las que siguieron la segunda dieta?\n",
    "\n",
    "Para sacar conclusiones, siga los siguientes puntos:\n",
    "\n",
    "-Enunciar la hipótesis: hipótesis nula y alternativa.\n",
    "-Realizar la prueba para comprobar la hipótesis. Puede utilizar la prueba t de Student.\n",
    "-Analizar las conclusiones."
   ]
  },
  {
   "cell_type": "code",
   "execution_count": 1,
   "id": "8e0f3cf0",
   "metadata": {},
   "outputs": [],
   "source": [
    "#PASO 0: Se importan las funciones de las librerías que usamos.\n",
    "#Amedida que se va realizando la codificación se eligen las que se usarán (por prueba y error).\n",
    "import numpy as np\n",
    "import scipy.stats as stats"
   ]
  },
  {
   "cell_type": "code",
   "execution_count": 2,
   "id": "e75e3d36",
   "metadata": {},
   "outputs": [
    {
     "name": "stdout",
     "output_type": "stream",
     "text": [
      "[2.  2.5 3.  2.8 2.3 2.7 2.5]\n",
      "[3.  3.2 3.1 2.9 2.8 3.  3.2]\n"
     ]
    }
   ],
   "source": [
    "#PASO 1: Transcribir los datos de las dietas en listas.\n",
    "#PASO 2: Esas listas las ponemos dentro de *np.array* para crear matrices multidimensionales.\n",
    "#        son la estructura para realizar cálculos en python.\n",
    "dieta_1= np.array([2.0, 2.5, 3.0, 2.8, 2.3, 2.7, 2.5])\n",
    "dieta_2= np.array([3.0, 3.2, 3.1, 2.9, 2.8, 3.0, 3.2])\n",
    "print(dieta_1)\n",
    "print(dieta_2)"
   ]
  },
  {
   "cell_type": "code",
   "execution_count": 3,
   "id": "3ae6901a",
   "metadata": {},
   "outputs": [
    {
     "name": "stdout",
     "output_type": "stream",
     "text": [
      "2.542857142857143\n",
      "3.0285714285714285\n"
     ]
    }
   ],
   "source": [
    "#PASO 3: Calculamos la media de cada dieta. Con *np.mean*.\n",
    "media_dieta_1 = np.mean(dieta_1)\n",
    "media_dieta_2 = np.mean(dieta_2)\n",
    "print(media_dieta_1)\n",
    "print(media_dieta_2)"
   ]
  },
  {
   "cell_type": "markdown",
   "id": "24281276",
   "metadata": {},
   "source": [
    "_OBSERVACIONES:_\n",
    "\n",
    "_-Vemos que las medias son distintas, la dieta_2 tiene una media ligeramente mayor._\n",
    "_Es un vago indicativo de que probablemente, sea mejor dieta que la dieta_1._\n",
    "\n",
    "C.G.W."
   ]
  },
  {
   "cell_type": "code",
   "execution_count": 4,
   "id": "dd98d50c",
   "metadata": {},
   "outputs": [
    {
     "name": "stdout",
     "output_type": "stream",
     "text": [
      "0.3309438162646487\n",
      "0.14960264830861927\n"
     ]
    }
   ],
   "source": [
    "#PASO 4: Calculamos la desviación estándard con *np.std*.\n",
    "#        Usando como parámetro *ddof = 1* para calcular la desviación estándar muestral.\n",
    "std_dieta_1 = np.std(dieta_1, ddof = 1)\n",
    "std_dieta_2 = np.std(dieta_2, ddof = 1)\n",
    "print(std_dieta_1)\n",
    "print(std_dieta_2)"
   ]
  },
  {
   "cell_type": "markdown",
   "id": "9f771e87",
   "metadata": {},
   "source": [
    "_OBSERVACIONES:_\n",
    "\n",
    "_-Tienen una distribución bastante diferente. La dieta_1 tiene los datos más dispersos (tiene resultados más alejados de la media)._\n",
    "\n",
    "C.G.W."
   ]
  },
  {
   "cell_type": "code",
   "execution_count": 5,
   "id": "a2c5edd3",
   "metadata": {},
   "outputs": [
    {
     "name": "stdout",
     "output_type": "stream",
     "text": [
      "-3.5383407969933938\n",
      "0.007125697852423989\n"
     ]
    }
   ],
   "source": [
    "#PASO 5: -Calculamos la \"t de student\" con *stats.ttest_ind*\n",
    "#         Juntamente con el \"valor_p\"\n",
    "#        -*equal_var* indica si asumimos que las varianzas de ambas dietas son iguales.\n",
    "#         Sabemos que no son iguales por eso lo igualamos a \"False\".\n",
    "t_student, valor_p = stats.ttest_ind(dieta_1, dieta_2, equal_var = False)\n",
    "print(t_student)\n",
    "print(valor_p)"
   ]
  },
  {
   "cell_type": "markdown",
   "id": "f26c44d4",
   "metadata": {},
   "source": [
    "_OBSERVACIONES:_\n",
    "\n",
    "_-La t studente nos ayuda a examinar las diferencias entre dos muestras independientes y pequeñas, que tengan distribución normal y homogeneidad en sus varianzas. Al tener un valor negativo (-3.54), nos indica que el estadístico calculado es menor que el valor esperado._\n",
    "\n",
    "_-El \"valor_p\"(0.007) nos indica la posibilidad de que la diferencia observada se deba al azar._\n",
    "\n",
    "_-Como es menor que alpha (0.5), significa que tiene muy baja aleatoriedad._\n",
    "\n",
    "C.G.W."
   ]
  },
  {
   "cell_type": "code",
   "execution_count": 6,
   "id": "c0e57fd0",
   "metadata": {},
   "outputs": [
    {
     "name": "stdout",
     "output_type": "stream",
     "text": [
      "HIPÓTESIS:\n",
      "¿Existe una diferencia en la pérdida de peso promedio entre las personas que siguieron la dieta_1 y las que siguieron la dieta_2?\n",
      "Se aprueba hipótesis alternativa:\n",
      "Porque existe una diferencia significativa en la pérdida de peso promedio con la dieta_1 y la dieta_2.\n"
     ]
    }
   ],
   "source": [
    "#PASO 6: Usamos \"alpha\" (0.5) para calcular el nivel de significancia del \"valor_p\".\n",
    "#PASO 7: Establecemos la hipótesis, la hipótesis nula y la hipótesis alternativa.\n",
    "print(\"HIPÓTESIS:\\n¿Existe una diferencia en la pérdida de peso promedio entre las personas que siguieron la dieta_1 y las que siguieron la dieta_2?\")\n",
    "alpha = 0.5\n",
    "if valor_p > alpha :\n",
    "    print (f\"Se aprueba hipótesis nula:\\nPorque NO existe una diferencia significativa en la pérdida de peso promedio con la dieta_1 y la dieta_2.\")\n",
    "else:    \n",
    "    print (f\"Se aprueba hipótesis alternativa:\\nPorque existe una diferencia significativa en la pérdida de peso promedio con la dieta_1 y la dieta_2.\")"
   ]
  },
  {
   "cell_type": "markdown",
   "id": "497d11d8",
   "metadata": {},
   "source": [
    "_OBSERVACIONES:_\n",
    "\n",
    "_-Alpha es el nivel de significancia en un contraste de hipótesis, indica la probabilidad de tener un error del tipo I (falso positivo)_\n",
    "\n",
    "_-Al rechazar la hipótesis nula, aceptamos la hipótesis alternativa, que es la opuesta._\n",
    "\n",
    "C.G.W."
   ]
  },
  {
   "cell_type": "code",
   "execution_count": 7,
   "id": "72c9de94",
   "metadata": {},
   "outputs": [
    {
     "name": "stdout",
     "output_type": "stream",
     "text": [
      "HIPÓTESIS:\n",
      "¿Existe una diferencia en la pérdida de peso promedio entre las personas que siguieron la dieta_1 y las que siguieron la dieta_2?\n",
      "Se aprueba hipótesis alternativa:\n",
      "Porque existe una diferencia significativa en la pérdida de peso promedio con la dieta_1 y la dieta_2.\n"
     ]
    }
   ],
   "source": [
    "#PASO 8: Unir todo el código en una celda.\n",
    "import numpy as np\n",
    "import scipy.stats as stats\n",
    "dieta_1= np.array([2.0, 2.5, 3.0, 2.8, 2.3, 2.7, 2.5])\n",
    "dieta_2= np.array([3.0, 3.2, 3.1, 2.9, 2.8, 3.0, 3.2])\n",
    "std_dieta_1 = np.std(dieta_1, ddof = 1)\n",
    "std_dieta_2 = np.std(dieta_2, ddof = 1)\n",
    "t_student, valor_p = stats.ttest_ind(dieta_1, dieta_2, equal_var = False)\n",
    "print(\"HIPÓTESIS:\\n¿Existe una diferencia en la pérdida de peso promedio entre las personas que siguieron la dieta_1 y las que siguieron la dieta_2?\")\n",
    "alpha = 0.5\n",
    "if valor_p > alpha :\n",
    "    print (f\"Se aprueba hipótesis nula:\\nPorque NO existe una diferencia significativa en la pérdida de peso promedio con la dieta_1 y la dieta_2.\")\n",
    "else:    \n",
    "    print (f\"Se aprueba hipótesis alternativa:\\nPorque existe una diferencia significativa en la pérdida de peso promedio con la dieta_1 y la dieta_2.\")"
   ]
  },
  {
   "cell_type": "markdown",
   "id": "ad51b867",
   "metadata": {},
   "source": [
    "_CONCLUSIONES:_\n",
    "\n",
    "_-MEDIA:La dieta_1 (2.54 kg.) logra menor pérdida de peso que dieta_2 (3.03 kg.)._\n",
    "\n",
    "_-DESVIACIÓN ESTÁNDARD:La dieta_1 (0.33) logra pérdidas de peso más variadas que la dieta_2 (0.15). Es decir, probablemente exista elementos externos a ella, que afecten a los resultados. Es menos precisa._\n",
    "\n",
    "_-T-STUDENT: negativo (-3.54), el estadístico calculado es menor que el valor esperado._\n",
    "\n",
    "_-VALOR-P: Es de (0.007), muy baja aleatoriedad. Efecto de las dietas es real, sugiere rechazar la hipótesis nula._\n",
    "\n",
    "_-HIPÓTESIS NULA:\n",
    "Se rechaza porque existe una diferencia significativa en la pérdida de peso con la dieta_1 y la dieta_2._\n",
    "\n",
    "\n",
    "\n",
    "\n",
    "CONCLUSIÓN FINAL:\n",
    "\n",
    "La dieta_2 es más eficiente para perder peso que la dieta_1.\n",
    "\n",
    "C.G.W."
   ]
  },
  {
   "cell_type": "markdown",
   "id": "f432e18e",
   "metadata": {},
   "source": [
    "## ANOVA\n",
    "\n",
    "**ANOVA** (*Analysis of Variance - Análisis de variación*) Es una técnica estadística utilizada para comparar las medidas de dos o más grupos. La idea detrás de ANOVA es descomponer la variabilidad total de los datos en dos componentes: variabilidad entre grupos y variabilidad dentro de los grupos:\n",
    "\n",
    "- **Variabilidad entre grupos**: Esta variabilidad se refiere a las diferencias entre las medias del grupo. Si esta variabilidad es considerablemente mayor que la variabilidad dentro del grupo, podría ser una indicación de que al menos una de las medias del grupo es diferente.\n",
    "- **Variabilidad dentro del grupo**: Esta variabilidad se refiere a la dispersión de los datos dentro de cada grupo. Si todos los grupos tienen una variabilidad similar, entonces cualquier diferencia notable en las medias de los grupos podría considerarse significativa.\n",
    "\n",
    "Las hipótesis en ANOVA suelen incluir:\n",
    "\n",
    "- **Hipótesis nula** ($H₀$): Las medias de todos los grupos son iguales.\n",
    "- **Hipótesis alternativa** ($H₁$): Al menos una de las medias del grupo es diferente.\n",
    "\n",
    "Si el resultado de la prueba ANOVA es significativo (por ejemplo, un valor p inferior a un umbral como 0,05), esto sugiere que al menos la media de un grupo es diferente."
   ]
  },
  {
   "cell_type": "markdown",
   "id": "fc5f3721",
   "metadata": {},
   "source": [
    "## Ejercicio 2\n",
    "\n",
    "Un agricultor decide probar tres tipos diferentes de fertilizantes para determinar si alguno es superior en términos de producción de maíz. El agricultor planta maíz en 15 parcelas idénticas y utiliza los tres fertilizantes (5 parcelas para cada tipo). Al final de la temporada mide el rendimiento de maíz (en kg) de cada parcela, con el siguiente resultado:\n",
    "\n",
    "| Fertilizante 1 | Fertilizante 2 | Fertilizante 3 |\n",
    "|:-------------|:-------------|:-------------|\n",
    "| 20 | 22 | 24 |\n",
    "| 21 | 21 | 23 |\n",
    "| 20 | 23 | 22 |\n",
    "| 19 | 22 | 23 |\n",
    "| 20 | 21 | 24 |\n",
    "\n",
    "Con estos datos busca responder la siguiente pregunta: ¿Existe una diferencia significativa en el rendimiento promedio del maíz entre los tres tipos de fertilizantes?\n",
    "\n",
    "Para ayudarte, sigue los siguientes puntos:\n",
    "\n",
    "-Enunciar la hipótesis: hipótesis nula y alternativa.\n",
    "-Realizar la prueba ANOVA.\n",
    "-Analizar las conclusiones.\n",
    "-Si un fertilizante es mejor que otro, ¿cómo podemos saberlo?"
   ]
  },
  {
   "cell_type": "code",
   "execution_count": 8,
   "id": "eecad0ca",
   "metadata": {},
   "outputs": [],
   "source": [
    "#PASO 0: Se importan las funciones de las librerías que usamos.\n",
    "#Amedida que se va realizando la codificación se eligen las que se usarán (por prueba y error).\n",
    "import numpy as np\n",
    "from scipy import stats"
   ]
  },
  {
   "cell_type": "code",
   "execution_count": 9,
   "id": "25dc05c3",
   "metadata": {},
   "outputs": [
    {
     "name": "stdout",
     "output_type": "stream",
     "text": [
      "[20 21 20 19 20]\n",
      "[22 21 23 22 21]\n",
      "[24 23 22 23 24]\n"
     ]
    }
   ],
   "source": [
    "#PASO 1: Transcribir los datos de las dietas en listas.\n",
    "#PASO 2: Esas listas las ponemos dentro de *np.array* para crear matrices multidimensionales.\n",
    "#        son la estructura para realizar cálculos en python.\n",
    "fertilizante_1 = np.array([20, 21, 20, 19, 20])\n",
    "fertilizante_2 = np.array([22, 21, 23, 22, 21])\n",
    "fertilizante_3 = np.array([24, 23, 22, 23, 24])\n",
    "print (fertilizante_1)\n",
    "print (fertilizante_2)\n",
    "print (fertilizante_3)"
   ]
  },
  {
   "cell_type": "code",
   "execution_count": 10,
   "id": "1b5de9c1",
   "metadata": {},
   "outputs": [
    {
     "name": "stdout",
     "output_type": "stream",
     "text": [
      "20.0\n",
      "21.8\n",
      "23.2\n"
     ]
    }
   ],
   "source": [
    "#PASO 3: Calculamos la media de la cantidad conseguida con cada tipo de fertilizante. Con *np.mean*.\n",
    "media_fertilizante_1 = np.mean(fertilizante_1)\n",
    "media_fertilizante_2 = np.mean(fertilizante_2)\n",
    "media_fertilizante_3 = np.mean(fertilizante_3)\n",
    "print (media_fertilizante_1)\n",
    "print (media_fertilizante_2)\n",
    "print (media_fertilizante_3)"
   ]
  },
  {
   "cell_type": "markdown",
   "id": "c3b01e28",
   "metadata": {},
   "source": [
    "_OBSERVACIONES:_\n",
    "\n",
    "_-Vemos que las medias son distintas, el fertilizante_3 tiene una media ligeramente mayor a los otros._\n",
    "_Es un vago indicativo de que probablemente, sea el mejor fertilizante de los tres usados._\n",
    "\n",
    "C.G.W."
   ]
  },
  {
   "cell_type": "code",
   "execution_count": 11,
   "id": "b0ab1c47",
   "metadata": {},
   "outputs": [
    {
     "name": "stdout",
     "output_type": "stream",
     "text": [
      "0.7071067811865476\n",
      "0.8366600265340756\n",
      "0.8366600265340756\n"
     ]
    }
   ],
   "source": [
    "#PASO 4: Calculamos la desviación estándard con *np.std*.\n",
    "#        Usando como parámetro *ddof = 1* para calcular la desviación estándar muestral.\n",
    "std_fertilizante_1 = np.std(fertilizante_1, ddof = 1)\n",
    "std_fertilizante_2 = np.std(fertilizante_2, ddof = 1)\n",
    "std_fertilizante_3 = np.std(fertilizante_3, ddof = 1)\n",
    "print(std_fertilizante_1)\n",
    "print(std_fertilizante_2)\n",
    "print(std_fertilizante_3)"
   ]
  },
  {
   "cell_type": "markdown",
   "id": "8b1fb818",
   "metadata": {},
   "source": [
    "_OBSERVACIONES:_\n",
    "\n",
    "_-Tienen una distribución de datos exactamente igual, el fertilizante_2 y el fertilizante_3._\n",
    "\n",
    "_-El fertilizante_2 tiene los datos un poco menos dispersos (tiene resultados menos alejados de la media)._\n",
    "\n",
    "C.G.W."
   ]
  },
  {
   "cell_type": "code",
   "execution_count": 12,
   "id": "9e02362c",
   "metadata": {},
   "outputs": [
    {
     "name": "stdout",
     "output_type": "stream",
     "text": [
      "20.315789473684188\n",
      "0.00014047824793190472\n"
     ]
    }
   ],
   "source": [
    "#PASO 5: -Para calcular la varianza, al ser más de dos conjuntos de datos, usamos la ANOVA.\n",
    "#        ANOVA: f_stat -> *stats.f_oneway*\n",
    "f_stat, valor_p_fertilizantes = stats.f_oneway (fertilizante_1, fertilizante_2, fertilizante_3)\n",
    "print (f_stat)\n",
    "print (valor_p_fertilizantes)"
   ]
  },
  {
   "cell_type": "markdown",
   "id": "2bf9c5a0",
   "metadata": {},
   "source": [
    "_OBSERVACIONES:_\n",
    "\n",
    "_-PRUEBA ANOVA: compara las medias de dos o más grupos. Analiza la varianza, determina si tienen diferencias significativas (20.32), nos indica que hay una diferencia contundente entre los fertilizantes_\n",
    "\n",
    "_-El \"valor_p\" (0.0001) nos indica la probabilidad de que la diferencia observada se deba al azar._\n",
    "\n",
    "_-Como es menor que alpha (0.5), significa que tiene muy baja aleatoriedad._\n",
    "\n",
    "C.G.W."
   ]
  },
  {
   "cell_type": "markdown",
   "id": "0bb0a932",
   "metadata": {},
   "source": []
  },
  {
   "cell_type": "code",
   "execution_count": 13,
   "id": "7fa59b33",
   "metadata": {},
   "outputs": [
    {
     "name": "stdout",
     "output_type": "stream",
     "text": [
      "HIPÓTESIS:\n",
      "¿Existe una diferencia significativa en el rendimiento promedio del maíz entre los tres tipos de fertilizantes?\n",
      "Se aprueba hipótesis alternativa:\n",
      "Porque existe una diferencia significativa en el rendimiento promedio del maíz entre los tres tipos de fertilizantes.\n"
     ]
    }
   ],
   "source": [
    "#PASO 6: Usamos \"alpha\" (0.5) para calcular el nivel de significancia del \"valor_p\".\n",
    "#PASO 7: Establecemos la hipótesis, la hipótesis nula y la hipótesis alternativa.\n",
    "print(\"HIPÓTESIS:\\n¿Existe una diferencia significativa en el rendimiento promedio del maíz entre los tres tipos de fertilizantes?\")\n",
    "alpha = 0.5\n",
    "if valor_p > alpha :\n",
    "    print (f\"Se aprueba hipótesis nula:\\nPorque NO existe una diferencia significativa en el rendimiento promedio del maíz entre los tres tipos de fertilizantes.\")\n",
    "else:    \n",
    "    print (f\"Se aprueba hipótesis alternativa:\\nPorque existe una diferencia significativa en el rendimiento promedio del maíz entre los tres tipos de fertilizantes.\")"
   ]
  },
  {
   "cell_type": "code",
   "execution_count": 14,
   "id": "53b0af96",
   "metadata": {},
   "outputs": [
    {
     "name": "stdout",
     "output_type": "stream",
     "text": [
      "HIPÓTESIS:\n",
      "¿Existe una diferencia significativa en el rendimiento promedio del maíz entre los tres tipos de fertilizantes?\n",
      "Se aprueba hipótesis alternativa:\n",
      "Porque existe una diferencia significativa en el rendimiento promedio del maíz entre los tres tipos de fertilizantes.\n"
     ]
    }
   ],
   "source": [
    "#PASO 8: Unir todo el código en una celda.\n",
    "import numpy as np\n",
    "from scipy import stats\n",
    "fertilizante_1 = np.array([20, 21, 20, 19, 20])\n",
    "fertilizante_2 = np.array([22, 21, 23, 22, 21])\n",
    "fertilizante_3 = np.array([24, 23, 22, 23, 24])\n",
    "std_fertilizante_1 = np.std(fertilizante_1, ddof = 1)\n",
    "std_fertilizante_2 = np.std(fertilizante_2, ddof = 1)\n",
    "std_fertilizante_3 = np.std(fertilizante_3, ddof = 1)\n",
    "f_stat, valor_p_fertilizantes = stats.f_oneway (fertilizante_1, fertilizante_2, fertilizante_3)\n",
    "print(\"HIPÓTESIS:\\n¿Existe una diferencia significativa en el rendimiento promedio del maíz entre los tres tipos de fertilizantes?\")\n",
    "alpha = 0.5\n",
    "if valor_p > alpha :\n",
    "    print (f\"Se aprueba hipótesis nula:\\nPorque NO existe una diferencia significativa en el rendimiento promedio del maíz entre los tres tipos de fertilizantes.\")\n",
    "else:    \n",
    "    print (f\"Se aprueba hipótesis alternativa:\\nPorque existe una diferencia significativa en el rendimiento promedio del maíz entre los tres tipos de fertilizantes.\")"
   ]
  },
  {
   "cell_type": "markdown",
   "id": "6eee320a",
   "metadata": {},
   "source": []
  }
 ],
 "metadata": {
  "kernelspec": {
   "display_name": "Python 3",
   "language": "python",
   "name": "python3"
  },
  "language_info": {
   "codemirror_mode": {
    "name": "ipython",
    "version": 3
   },
   "file_extension": ".py",
   "mimetype": "text/x-python",
   "name": "python",
   "nbconvert_exporter": "python",
   "pygments_lexer": "ipython3",
   "version": "3.11.4"
  }
 },
 "nbformat": 4,
 "nbformat_minor": 5
}
